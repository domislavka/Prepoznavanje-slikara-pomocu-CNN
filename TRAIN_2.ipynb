{
 "cells": [
  {
   "cell_type": "code",
   "execution_count": 31,
   "metadata": {},
   "outputs": [],
   "source": [
    "from __future__ import print_function\n",
    "from keras.layers import Dense, Conv2D, BatchNormalization, Activation, MaxPooling2D\n",
    "from keras.layers import AveragePooling2D, Input, Flatten, Activation, Dropout, Dense\n",
    "from keras.optimizers import Adam\n",
    "from keras.callbacks import ModelCheckpoint, LearningRateScheduler\n",
    "from keras.callbacks import ReduceLROnPlateau\n",
    "from keras.preprocessing.image import ImageDataGenerator, array_to_img, img_to_array, load_img\n",
    "from keras.regularizers import l2\n",
    "from keras import backend as K\n",
    "from keras.models import Sequential\n",
    "from painting_loader import PaintingFolder\n",
    "import pandas as pd\n",
    "import random\n",
    "import numpy as np"
   ]
  },
  {
   "cell_type": "code",
   "execution_count": 3,
   "metadata": {},
   "outputs": [
    {
     "data": {
      "text/html": [
       "<div>\n",
       "<style scoped>\n",
       "    .dataframe tbody tr th:only-of-type {\n",
       "        vertical-align: middle;\n",
       "    }\n",
       "\n",
       "    .dataframe tbody tr th {\n",
       "        vertical-align: top;\n",
       "    }\n",
       "\n",
       "    .dataframe thead th {\n",
       "        text-align: right;\n",
       "    }\n",
       "</style>\n",
       "<table border=\"1\" class=\"dataframe\">\n",
       "  <thead>\n",
       "    <tr style=\"text-align: right;\">\n",
       "      <th></th>\n",
       "      <th>artist</th>\n",
       "      <th>date</th>\n",
       "      <th>genre</th>\n",
       "      <th>pixelsx</th>\n",
       "      <th>pixelsy</th>\n",
       "      <th>size_bytes</th>\n",
       "      <th>source</th>\n",
       "      <th>style</th>\n",
       "      <th>title</th>\n",
       "      <th>artist_group</th>\n",
       "      <th>in_train</th>\n",
       "      <th>new_filename</th>\n",
       "    </tr>\n",
       "  </thead>\n",
       "  <tbody>\n",
       "    <tr>\n",
       "      <th>0</th>\n",
       "      <td>Barnett Newman</td>\n",
       "      <td>1955.0</td>\n",
       "      <td>abstract</td>\n",
       "      <td>15530.0</td>\n",
       "      <td>6911.0</td>\n",
       "      <td>9201912.0</td>\n",
       "      <td>wikiart</td>\n",
       "      <td>Color Field Painting</td>\n",
       "      <td>Uriel</td>\n",
       "      <td>train_only</td>\n",
       "      <td>True</td>\n",
       "      <td>102257.jpg</td>\n",
       "    </tr>\n",
       "    <tr>\n",
       "      <th>1</th>\n",
       "      <td>Barnett Newman</td>\n",
       "      <td>1950.0</td>\n",
       "      <td>abstract</td>\n",
       "      <td>14559.0</td>\n",
       "      <td>6866.0</td>\n",
       "      <td>8867532.0</td>\n",
       "      <td>wikiart</td>\n",
       "      <td>Color Field Painting</td>\n",
       "      <td>Vir Heroicus Sublimis</td>\n",
       "      <td>train_only</td>\n",
       "      <td>True</td>\n",
       "      <td>75232.jpg</td>\n",
       "    </tr>\n",
       "    <tr>\n",
       "      <th>2</th>\n",
       "      <td>kiri nichol</td>\n",
       "      <td>2013.0</td>\n",
       "      <td>NaN</td>\n",
       "      <td>9003.0</td>\n",
       "      <td>9004.0</td>\n",
       "      <td>1756681.0</td>\n",
       "      <td>NaN</td>\n",
       "      <td>Neoplasticism</td>\n",
       "      <td>NaN</td>\n",
       "      <td>test_only</td>\n",
       "      <td>False</td>\n",
       "      <td>32145.jpg</td>\n",
       "    </tr>\n",
       "    <tr>\n",
       "      <th>3</th>\n",
       "      <td>kiri nichol</td>\n",
       "      <td>2013.0</td>\n",
       "      <td>NaN</td>\n",
       "      <td>9003.0</td>\n",
       "      <td>9004.0</td>\n",
       "      <td>1942046.0</td>\n",
       "      <td>NaN</td>\n",
       "      <td>Neoplasticism</td>\n",
       "      <td>NaN</td>\n",
       "      <td>test_only</td>\n",
       "      <td>False</td>\n",
       "      <td>20304.jpg</td>\n",
       "    </tr>\n",
       "    <tr>\n",
       "      <th>4</th>\n",
       "      <td>kiri nichol</td>\n",
       "      <td>2013.0</td>\n",
       "      <td>NaN</td>\n",
       "      <td>9003.0</td>\n",
       "      <td>9004.0</td>\n",
       "      <td>1526212.0</td>\n",
       "      <td>NaN</td>\n",
       "      <td>Neoplasticism</td>\n",
       "      <td>NaN</td>\n",
       "      <td>test_only</td>\n",
       "      <td>False</td>\n",
       "      <td>836.jpg</td>\n",
       "    </tr>\n",
       "  </tbody>\n",
       "</table>\n",
       "</div>"
      ],
      "text/plain": [
       "           artist    date     genre  pixelsx  pixelsy  size_bytes   source  \\\n",
       "0  Barnett Newman  1955.0  abstract  15530.0   6911.0   9201912.0  wikiart   \n",
       "1  Barnett Newman  1950.0  abstract  14559.0   6866.0   8867532.0  wikiart   \n",
       "2     kiri nichol  2013.0       NaN   9003.0   9004.0   1756681.0      NaN   \n",
       "3     kiri nichol  2013.0       NaN   9003.0   9004.0   1942046.0      NaN   \n",
       "4     kiri nichol  2013.0       NaN   9003.0   9004.0   1526212.0      NaN   \n",
       "\n",
       "                  style                  title artist_group  in_train  \\\n",
       "0  Color Field Painting                  Uriel   train_only      True   \n",
       "1  Color Field Painting  Vir Heroicus Sublimis   train_only      True   \n",
       "2         Neoplasticism                    NaN    test_only     False   \n",
       "3         Neoplasticism                    NaN    test_only     False   \n",
       "4         Neoplasticism                    NaN    test_only     False   \n",
       "\n",
       "  new_filename  \n",
       "0   102257.jpg  \n",
       "1    75232.jpg  \n",
       "2    32145.jpg  \n",
       "3    20304.jpg  \n",
       "4      836.jpg  "
      ]
     },
     "execution_count": 3,
     "metadata": {},
     "output_type": "execute_result"
    }
   ],
   "source": [
    "# pogledamo podatke o SVIM slikama, one su spremljene u datoteci all_data_info.csv\n",
    "\n",
    "df = pd.read_csv(\"/home/ivana/data/all_data_info.csv\")\n",
    "# inicijalizirmo seed za random pozive\n",
    "seed = 123\n",
    "df.head()"
   ]
  },
  {
   "cell_type": "code",
   "execution_count": 17,
   "metadata": {},
   "outputs": [
    {
     "name": "stdout",
     "output_type": "stream",
     "text": [
      "87\n",
      "(8476, 12)\n"
     ]
    }
   ],
   "source": [
    "############# TESTIRANJE RADI LI OVO: MAPA TRAIN_2 ###########################\n",
    "# threshold je granica koja određujemo kojeg ćemo autora uzeti,\n",
    "# odnosno koliko autor najmanje treba imati slika da ga uzmemo u obzir\n",
    "\n",
    "threshold = 20\n",
    "\n",
    "# s ovom linijom dohvaćamo podtablicu koja se odnosi \n",
    "# na one slike koje pripadaju datoteci train_2\n",
    "df2 = df.loc[(df['in_train'] == True) & df['new_filename'].str.startswith('2')]\n",
    "# x2.head()\n",
    "\n",
    "# koliko uopće imamo autora u ovoj podtablici\n",
    "x2 = list(df2['artist'].value_counts())\n",
    "\n",
    "# koliko imamo autora s bar threshold slika\n",
    "print(len([a for a in x2 if a >= threshold]))\n",
    "\n",
    "# oblik tablice\n",
    "print(df2.shape)\n",
    "# df2.head()\n",
    "\n",
    "# nadalje, radimo sa df2 tablicom koju spremamo u df\n",
    "df=df2"
   ]
  },
  {
   "cell_type": "code",
   "execution_count": 18,
   "metadata": {
    "scrolled": true
   },
   "outputs": [
    {
     "name": "stdout",
     "output_type": "stream",
     "text": [
      "1229\n"
     ]
    }
   ],
   "source": [
    "print(len([a for a in x2 if a <= 10]))"
   ]
  },
  {
   "cell_type": "code",
   "execution_count": 19,
   "metadata": {},
   "outputs": [
    {
     "name": "stdout",
     "output_type": "stream",
     "text": [
      "Autora s <= 10 slika ima 1229\n"
     ]
    }
   ],
   "source": [
    "# mali problem su slikari s jednom slikom, odnosno oni koji imaju manje od 10 slika\n",
    "small_artists = [a for a in x2 if a <= 10]\n",
    "print('Autora s <= 10 slika ima ' + str(len(small_artists)))\n",
    "\n",
    "# sljedeće linije su ostavljene zbog debuggiranja\n",
    "# tmp2 = df['artist'].value_counts()\n",
    "# small_artist_df = tmp2[tmp2 <= 10].index.tolist()\n",
    "# print(len(small_artist_df))"
   ]
  },
  {
   "cell_type": "code",
   "execution_count": 28,
   "metadata": {},
   "outputs": [
    {
     "name": "stdout",
     "output_type": "stream",
     "text": [
      "Prepoznajemo 87 slikara\n",
      "train tablica\t\t (1392, 12)\n",
      "validation tablica\t (174, 12)\n",
      "test tablica\t\t (174, 12)\n"
     ]
    }
   ],
   "source": [
    "# train, validation, test --- 80, 10, 10\n",
    "# num_train = threshold * 0.8\n",
    "num_train = 16       # num_val = threshold * 0.1\n",
    "num_val = 2          # num_test = num_val\n",
    "num_test = num_val\n",
    "num_samples = num_train + num_val + num_test   # num_samples = threshold\n",
    "\n",
    "# podtablica umjetnika koje ćemo promatrati\n",
    "temp = df['artist'].value_counts()\n",
    "# lista umjetnika koje ćemo promatrati\n",
    "artists = temp[temp >= threshold].index.tolist()\n",
    "# print(artists)\n",
    "num_artists = len(artists)\n",
    "print('Prepoznajemo ' + str(num_artists) + ' slikara')\n",
    "\n",
    "train_dfs = []\n",
    "val_dfs = []\n",
    "test_dfs = []\n",
    "\n",
    "# u petlji uzimamo slike pojedinih autora, preraspodijeljujemo ih na train, val i test\n",
    "for a in artists:\n",
    "    # PROVJERI KASNIJE ŠTA JE S NA=TRUE\n",
    "    tmp = df[df['artist'].str.startswith(a)].sample(n=num_samples, random_state=seed)\n",
    "    t_df = tmp.sample(n = num_train, random_state=seed)\n",
    "    rest_df = tmp.loc[~tmp.index.isin(t_df.index)] # uzmi komplement od t_df\n",
    "    v_df = rest_df.sample(n = num_val, random_state=seed)\n",
    "    te_df = rest_df.loc[~rest_df.index.isin(v_df.index)]\n",
    "    \n",
    "    train_dfs.append(t_df)\n",
    "    val_dfs.append(v_df)\n",
    "    test_dfs.append(te_df)\n",
    "\n",
    "train_df = pd.concat(train_dfs)\n",
    "val_df = pd.concat(val_dfs)\n",
    "test_df = pd.concat(test_dfs)\n",
    "\n",
    "print('train tablica\\t\\t', train_df.shape)\n",
    "print('validation tablica\\t', val_df.shape)\n",
    "print('test tablica\\t\\t', test_df.shape)"
   ]
  },
  {
   "cell_type": "code",
   "execution_count": 32,
   "metadata": {},
   "outputs": [],
   "source": [
    "mean_resnet = np.array([0.485, 0.456, 0.406])\n",
    "std_resnet = np.array([0.229, 0.224, 0.225])\n",
    "\n",
    "def center_crop(img, center_crop_size):\n",
    "    assert img.shape[2] == 3\n",
    "    centerw, centerh = img.shape[0] // 2, img.shape[1] // 2\n",
    "    halfw, halfh = center_crop_size[0] // 2, center_crop_size[1] // 2\n",
    "    return img[centerw-halfw:centerw+halfw, centerh-halfh:centerh+halfh, :]\n",
    "\n",
    "# https://jkjung-avt.github.io/keras-image-cropping/\n",
    "def random_crop(img, random_crop_size):\n",
    "    # Note: image_data_format is 'channel_last'\n",
    "    assert img.shape[2] == 3\n",
    "    height, width = img.shape[0], img.shape[1]\n",
    "    dy, dx = random_crop_size\n",
    "    x = np.random.randint(0, width - dx + 1)\n",
    "    y = np.random.randint(0, height - dy + 1)\n",
    "    return img[y:(y+dy), x:(x+dx), :]\n",
    "\n",
    "\n",
    "def crop_generator(batches, crop_length, random_crop_bool=True):\n",
    "    '''\n",
    "    Take as input a Keras ImageGen (Iterator) and generate random\n",
    "    crops from the image batches generated by the original iterator\n",
    "    '''\n",
    "    while True:\n",
    "        batch_x, batch_y = next(batches)\n",
    "        batch_crops = np.zeros((batch_x.shape[0], crop_length, crop_length, 3))\n",
    "        for i in range(batch_x.shape[0]):\n",
    "            if random_crop_bool == True:\n",
    "                batch_crops[i] = random_crop(batch_x[i], (crop_length, crop_length))\n",
    "            else:\n",
    "                batch_crops[i] = center_crop(batch_x[i], (crop_length, crop_length))\n",
    "        yield (batch_crops, batch_y)\n",
    "\n",
    "\n",
    "# https://tutorials.technology/blog/02-Selecting-random-elements-from-list-using-python-Reservoir-Sampling-algorithm.html\n",
    "def select_k_random_elements_from(collection_iterator, k):\n",
    "    result = {}\n",
    "    n = 0\n",
    "\n",
    "    for item in collection_iterator:\n",
    "        n += 1\n",
    "        if len(result) < k:\n",
    "            result[n - 1] = item\n",
    "        else:\n",
    "            selected_index = int(random.random() * n)\n",
    "            if selected_index < k:\n",
    "                result[selected_index] = item\n",
    "    return result.values()\n",
    "\n",
    "def select_k_elements_from(collection_iterator, k, artist_index):\n",
    "    result = {}\n",
    "    n = 0\n",
    "\n",
    "    for index, item in collection_iterator:\n",
    "        n += 1\n",
    "        if len(result) < k:\n",
    "            result[n - 1] = item\n",
    "        else:\n",
    "            if item[0] == artist_index:\n",
    "                selected_index = index\n",
    "            if selected_index < k:\n",
    "                result[selected_index] = item\n",
    "    return result.values()"
   ]
  },
  {
   "cell_type": "code",
   "execution_count": null,
   "metadata": {},
   "outputs": [],
   "source": []
  },
  {
   "cell_type": "code",
   "execution_count": 33,
   "metadata": {
    "scrolled": true
   },
   "outputs": [
    {
     "name": "stdout",
     "output_type": "stream",
     "text": [
      "Found 6780 images belonging to 1180 classes.\n",
      "Found 848 images belonging to 506 classes.\n"
     ]
    }
   ],
   "source": [
    "# velicina slika koje dajemo ulaznom sloju mreze\n",
    "input_shape = (224, 224, 3)\n",
    "# velicina batch-a\n",
    "b_size = 60\n",
    "\n",
    "train_datagen = ImageDataGenerator(\n",
    "                horizontal_flip=True)\n",
    "\n",
    "val_datagen = ImageDataGenerator(\n",
    "                horizontal_flip=True)\n",
    "\n",
    "train_generator = train_datagen.flow_from_directory(\n",
    "                    'data/images/train',\n",
    "                    batch_size=b_size,\n",
    "                    class_mode='sparse')\n",
    "# na slikama iz train skupa radimo crop na slučajnom mjestu\n",
    "train_crops = crop_generator(train_generator, 224)\n",
    "\n",
    "validation_generator = val_datagen.flow_from_directory(\n",
    "                    'data/images/validation',\n",
    "                    batch_size=b_size,\n",
    "                    class_mode='sparse')\n",
    "# na slikama iz validation skupa radimo centralni crop\n",
    "val_crops = crop_generator(validation_generator, 224, False)"
   ]
  },
  {
   "cell_type": "markdown",
   "metadata": {},
   "source": [
    "# početak ćelija za debuggiranje"
   ]
  },
  {
   "cell_type": "code",
   "execution_count": 34,
   "metadata": {},
   "outputs": [
    {
     "name": "stdout",
     "output_type": "stream",
     "text": [
      "<class 'tuple'>\n",
      "(60, 256, 256, 3)\n",
      "[123 328 315 338 286 254 417 230 424  53 485 431 312 486 308 238 197 214\n",
      " 269 350 326 117  71 144 155 359 336  74 256 417 323 496  44 198 390  80\n",
      " 199  43 412 419 304 317 141 131  97 222 456 488 244 251 154  81 235 135\n",
      " 240 303 312  19 296  51]\n",
      "(60,)\n",
      "<class 'tuple'>\n",
      "(60, 256, 256, 3)\n",
      "[489 375 482 405  31  91  41 140 267  35 178 356  59 150 464  34 211  89\n",
      " 493 112 141 206  95 288 343 501 451 267 503 453 245 281  49 489  50 246\n",
      "  94  67 466  97 472 220 279  12 342 256  96 216   0 117 368 467 366 102\n",
      "  60 154 474 228 375 137]\n",
      "(60,)\n",
      "<class 'tuple'>\n",
      "(60, 256, 256, 3)\n",
      "[186 439 248 419 443 478 504 468 147  16 159 384 131 486 466 232 394 504\n",
      "  90 485 425 476 335 247  39 171 207  28   2 452 350 488 289 332 166 439\n",
      " 383 334 156 446 375 137 374 474 309 393 272  60 197 341  47 332 252 427\n",
      " 167  17 329 410  30 485]\n",
      "(60,)\n"
     ]
    }
   ],
   "source": [
    "# ćelija za debuggarianje i provjeru, ne treba pokretati\n",
    "i = 0\n",
    "for item in enumerate(validation_generator):\n",
    "    print(type(item[1]))\n",
    "    print(item[1][0].shape)\n",
    "    print(item[1][1])\n",
    "    print(item[1][1].shape)\n",
    "    i += 1\n",
    "    if i >= 3:\n",
    "        break"
   ]
  },
  {
   "cell_type": "code",
   "execution_count": 35,
   "metadata": {
    "scrolled": true
   },
   "outputs": [
    {
     "name": "stdout",
     "output_type": "stream",
     "text": [
      "{'Edouard Manet', 'Jean Auguste Dominique Ingres', 'Odilon Redon', 'Charles M. Russell', 'David Burliuk', 'Gene Davis', 'Francisco Goya', 'Giovanni Boldini', 'Henri Matisse', 'Amedeo Modigliani', 'Dante Gabriel Rossetti', 'Pyotr Konchalovsky', 'Raphael Kirchner', 'Louis Comfort Tiffany', 'Alfred Sisley', 'William-Adolphe Bouguereau', 'Ilya Mashkov', 'Lucian Freud', 'Karl Bryullov', 'Zinaida Serebriakova', 'James Tissot', 'Ernst Ludwig Kirchner', 'Joan Miro', \"Georgia O'Keeffe\", 'Fernand Leger', 'Felix Vallotton ', 'Konstantin Yuon', 'M.C. Escher', 'Jan Matejko', 'Henri de Toulouse-Lautrec', 'Zdislav Beksinski', 'Sam Francis', 'Paolo Veronese', 'Theodor Severin Kittelsen'}\n",
      "Prepoznajemo 34 slikara\n"
     ]
    }
   ],
   "source": [
    "# također još jedna ćelija za debuggiranje i provjeru, ne treba pokretati\n",
    "label_map_train = (train_generator.class_indices)\n",
    "label_map_val = (validation_generator.class_indices)\n",
    "\n",
    "labels_train = set(label_map_train.keys())\n",
    "labels_val = set(label_map_val.keys())\n",
    "intersection = labels_train & labels_val & set(artists)\n",
    "\n",
    "print(intersection)\n",
    "\n",
    "train_dfs = []\n",
    "val_dfs = []\n",
    "test_dfs = []\n",
    "\n",
    "print('Prepoznajemo ' + str(len(intersection)) + ' slikara')"
   ]
  },
  {
   "cell_type": "code",
   "execution_count": null,
   "metadata": {},
   "outputs": [],
   "source": [
    "# ćelija za debuggiranje i provjeru\n",
    "batch_index = 0\n",
    "artists_and_indices = {}\n",
    "\n",
    "while batch_index < train_generator.batch_index:\n",
    "    data = train_generator.next()\n",
    "    key = data[1][batch_index]\n",
    "    value = data[0]\n",
    "    artists_and_indices.setdefault(key, [])\n",
    "    artists_and_indices[key].append(value)\n",
    "    batch_index += 1\n",
    "\n",
    "print(artists_and_indices)"
   ]
  },
  {
   "cell_type": "code",
   "execution_count": 36,
   "metadata": {
    "scrolled": true
   },
   "outputs": [
    {
     "name": "stdout",
     "output_type": "stream",
     "text": [
      "(60, 224, 224, 3)\n",
      "(60,)\n",
      "(224, 224, 3)\n"
     ]
    }
   ],
   "source": [
    "# ćelija za debuggiranje i provjeru\n",
    "\n",
    "batch_x, batch_y = next(train_crops)\n",
    "print(batch_x.shape)\n",
    "print(batch_y.shape)\n",
    "batch_xx = batch_x[0].reshape(224, 224, 3)\n",
    "print(batch_xx.shape)\n",
    "cropped_image = array_to_img(batch_xx)\n",
    "cropped_image.show()"
   ]
  },
  {
   "cell_type": "markdown",
   "metadata": {},
   "source": [
    "# kraj ćelija za debuggiranje"
   ]
  },
  {
   "cell_type": "code",
   "execution_count": null,
   "metadata": {},
   "outputs": [],
   "source": []
  },
  {
   "cell_type": "markdown",
   "metadata": {},
   "source": [
    "# Model mreže"
   ]
  },
  {
   "cell_type": "code",
   "execution_count": null,
   "metadata": {},
   "outputs": [],
   "source": [
    "# model mreže inspiriran glavnim člankom\n",
    "\n",
    "model = Sequential()\n",
    "#nn.Conv2d(3, 32, kernel_size=3 +, stride=2 +, padding=1), # -> 112\n",
    "model.add(Conv2D(32, kernel_size=3, strides=2, padding=\"same\",input_shape=input_shape))\n",
    "model.add(Activation('relu'))\n",
    "model.add(BatchNormalization())\n",
    "model.add(MaxPooling2D(pool_size=2))\n",
    "model.add(Conv2D(32, kernel_size=3, strides=2, padding=\"same\", input_shape=input_shape))\n",
    "model.add(Activation('relu'))\n",
    "model.add(BatchNormalization())\n",
    "model.add(MaxPooling2D(pool_size=2))\n",
    "model.add(Flatten())\n",
    "model.add(Dense(4*num_artists, input_shape=(6272,))) #nn.Linear(6272, 4*num_artists),\n",
    "model.add(Activation('relu'))\n",
    "model.add(Dense(num_artists, input_shape=(4*num_artists,))) #nn.Linear(4*num_artists, num_artists)\n",
    "\n",
    "# koristimo adamov optimizator i metrika je točnost\n",
    "model.compile(loss='categorical_crossentropy',\n",
    "              optimizer=Adam(lr=1e-4),\n",
    "              metrics=['accuracy'])\n",
    "\n",
    "# crta tablicu slojeva mreže\n",
    "model.summary()"
   ]
  },
  {
   "cell_type": "code",
   "execution_count": null,
   "metadata": {},
   "outputs": [],
   "source": [
    "# treniramo mrežu....\n",
    "\n",
    "STEP_SIZE_TRAIN=train_generator.n//train_generator.batch_size\n",
    "STEP_SIZE_VALID=valid_generator.n//valid_generator.batch_size\n",
    "\n",
    "model.fit_generator(\n",
    "    train_crops,\n",
    "    steps_per_epoch=STEP_SIZE_TRAIN,\n",
    "    epochs=3,\n",
    "    validation_data=STEP_SIZE_VALID,\n",
    "    validation_steps=b_size)\n",
    "\n",
    "model.save_weights('prvi_pokusaj.h5')"
   ]
  },
  {
   "cell_type": "code",
   "execution_count": null,
   "metadata": {},
   "outputs": [],
   "source": []
  },
  {
   "cell_type": "markdown",
   "metadata": {},
   "source": [
    "# iduće ćelije služe/služile su za debuggiranje"
   ]
  },
  {
   "cell_type": "code",
   "execution_count": null,
   "metadata": {},
   "outputs": [],
   "source": [
    "train_dset = PaintingFolder('data/images/train/', transform=None, df=train_df)\n",
    "val_dset = PaintingFolder('data/images/val/', transform=None, df=val_df)\n",
    "test_dset = PaintingFolder('data/images/test/', transform=None, df=test_df)"
   ]
  },
  {
   "cell_type": "code",
   "execution_count": null,
   "metadata": {},
   "outputs": [],
   "source": [
    "print(train_dset[0])\n",
    "print(len(val_dset))"
   ]
  },
  {
   "cell_type": "code",
   "execution_count": null,
   "metadata": {},
   "outputs": [],
   "source": [
    "datagen = ImageDataGenerator(\n",
    "            horizontal_flip=True)\n",
    "\n",
    "train_x = []\n",
    "for img in val_dset:\n",
    "    temp_x = img_to_array(img[0])\n",
    "    temp_x = temp_x.reshape((1,)+temp_x.shape)\n",
    "    train_x.append(temp_x)"
   ]
  },
  {
   "cell_type": "code",
   "execution_count": null,
   "metadata": {},
   "outputs": [],
   "source": [
    "thefile = open('train2-val.txt', 'w')\n",
    "for item in train_x:\n",
    "    thefile.write('%s\\n' % item)"
   ]
  },
  {
   "cell_type": "code",
   "execution_count": null,
   "metadata": {},
   "outputs": [],
   "source": [
    "img = load_img('data/train_2/2.jpg')\n",
    "img2 = load_img('data/train_2/20.jpg')\n",
    "# img.show()\n",
    "x = img_to_array(img)\n",
    "# print(x.shape)\n",
    "x = x.reshape((1,)+x.shape)\n",
    "# print(x.shape)\n",
    "x2 = img_to_array(img2)\n",
    "x2 = x2.reshape((1,)+x2.shape)\n",
    "print('x2', x2.shape)\n",
    "X = [x, x2]\n",
    "\n",
    "\n",
    "train_batch = datagen.flow(X, batch_size=1)\n",
    "train_crops = crop_generator(train_batch, 224, False)\n",
    "\n",
    "batch_x, batch_y = next(train_crops)\n",
    "print(batch_x.shape)\n",
    "print(batch_y.shape)\n",
    "batch_x = batch_x.reshape(224, 224, 3)\n",
    "print(batch_x.shape)\n",
    "cropped_image = array_to_img(batch_x)\n",
    "cropped_image.show()"
   ]
  }
 ],
 "metadata": {
  "kernelspec": {
   "display_name": "Python 3",
   "language": "python",
   "name": "python3"
  },
  "language_info": {
   "codemirror_mode": {
    "name": "ipython",
    "version": 3
   },
   "file_extension": ".py",
   "mimetype": "text/x-python",
   "name": "python",
   "nbconvert_exporter": "python",
   "pygments_lexer": "ipython3",
   "version": "3.6.5"
  }
 },
 "nbformat": 4,
 "nbformat_minor": 2
}

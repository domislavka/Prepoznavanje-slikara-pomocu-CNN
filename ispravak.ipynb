{
 "cells": [
  {
   "cell_type": "code",
   "execution_count": 2,
   "metadata": {},
   "outputs": [],
   "source": [
    "import os\n",
    "import csv\n",
    "import pandas as pd"
   ]
  },
  {
   "cell_type": "code",
   "execution_count": 3,
   "metadata": {},
   "outputs": [
    {
     "name": "stdout",
     "output_type": "stream",
     "text": [
      "['20034.jpg', '20077.jpg', '20248.jpg', '20389.jpg', '20398.jpg', '20407.jpg', '2040.jpg', '20455.jpg', '20500.jpg', '20515.jpg', '20633.jpg', '20665.jpg', '20795.jpg', '20857.jpg', '20879.jpg', '2093.jpg', '20941.jpg', '20942.jpg', '20947.jpg', '2101.jpg', '21069.jpg', '21114.jpg', '21119.jpg', '21133.jpg', '2113.jpg', '21147.jpg', '21170.jpg', '2126.jpg', '2142.jpg', '21437.jpg', '21538.jpg', '21558.jpg', '21640.jpg', '21658.jpg', '21660.jpg', '21669.jpg', '21677.jpg', '21713.jpg', '21715.jpg', '21731.jpg', '21762.jpg', '21779.jpg', '22006.jpg', '22162.jpg', '22278.jpg', '222.jpg', '22309.jpg', '22314.jpg', '22340.jpg', '2234.jpg', '22400.jpg', '22489.jpg', '22544.jpg', '2254.jpg', '22556.jpg', '22744.jpg', '22748.jpg', '22843.jpg', '2293.jpg', '22956.jpg', '22972.jpg', '23023.jpg', '23034.jpg', '23102.jpg', '2317.jpg', '23219.jpg', '23229.jpg', '23271.jpg', '23309.jpg', '2341.jpg', '2343.jpg', '2346.jpg', '23481.jpg', '23488.jpg', '23523.jpg', '23578.jpg', '23626.jpg', '23767.jpg', '23855.jpg', '2386.jpg', '24117.jpg', '24124.jpg', '24138.jpg', '24148.jpg', '24156.jpg', '24174.jpg', '24231.jpg', '24294.jpg', '24302.jpg', '24368.jpg', '24489.jpg', '24530.jpg', '24678.jpg', '24808.jpg', '24814.jpg', '24910.jpg', '24958.jpg', '24995.jpg', '25017.jpg', '25111.jpg', '25182.jpg', '25364.jpg', '25387.jpg', '25466.jpg', '25476.jpg', '25629.jpg', '25745.jpg', '25749.jpg', '25770.jpg', '25844.jpg', '25852.jpg', '25955.jpg', '25991.jpg', '26037.jpg', '26044.jpg', '26086.jpg', '26277.jpg', '26409.jpg', '2640.jpg', '26424.jpg', '2644.jpg', '26597.jpg', '26598.jpg', '26621.jpg', '26808.jpg', '26818.jpg', '26823.jpg', '26904.jpg', '2699.jpg', '2703.jpg', '27138.jpg', '27236.jpg', '27391.jpg', '27643.jpg', '27646.jpg', '27659.jpg', '27668.jpg', '276.jpg', '27739.jpg', '27747.jpg', '27944.jpg', '2808.jpg', '2811.jpg', '28122.jpg', '28170.jpg', '28229.jpg', '28251.jpg', '28424.jpg', '28498.jpg', '28534.jpg', '28556.jpg', '28573.jpg', '28575.jpg', '28672.jpg', '28695.jpg', '28816.jpg', '28899.jpg', '29083.jpg', '2908.jpg', '29197.jpg', '2919.jpg', '291.jpg', '29352.jpg', '29375.jpg', '29426.jpg', '29485.jpg', '29664.jpg', '29687.jpg', '29693.jpg', '29712.jpg', '29719.jpg', '29759.jpg', '29787.jpg', '29999.jpg']\n"
     ]
    }
   ],
   "source": [
    "filenames = []\n",
    "with open('../test.csv', 'r') as csvfile:\n",
    "    reader = csv.reader(csvfile, delimiter=',')\n",
    "    for row in reader:\n",
    "        filenames = row\n",
    "print(filenames)"
   ]
  },
  {
   "cell_type": "code",
   "execution_count": 22,
   "metadata": {},
   "outputs": [],
   "source": [
    "df = pd.read_csv(\"/home/ivana/repos/Vje-ba/all_data_info.csv\")\n",
    "\n",
    "artists = {}\n",
    "for image in filenames:\n",
    "    key = df[df['new_filename'] == image].artist.tolist()\n",
    "    artists.setdefault(key[0], []).append(image)\n",
    "\n",
    "#print(artists)"
   ]
  },
  {
   "cell_type": "code",
   "execution_count": 30,
   "metadata": {},
   "outputs": [],
   "source": [
    "import shutil\n",
    "import pandas as pd\n",
    "from os import path, getcwd, makedirs, walk\n",
    "\n",
    "def createFolder(name):\n",
    "    if not os.path.exists(name):\n",
    "        os.makedirs(name)\n",
    "        \n",
    "def copyImage(check, source, dest):\n",
    "    if not os.path.exists(check):\n",
    "        shutil.copy(source, dest)\n",
    "        \n",
    "moj_direktorij = os.getcwd()\n",
    "\n",
    "test_dir = os.path.join(path.abspath(path.join(moj_direktorij, '..')), 'test')\n",
    "\n",
    "train2_dir = os.path.join(path.abspath(path.join(moj_direktorij, '..')), 'train_2')\n",
    "\n",
    "# ako validation, test i train poddirektoriji ne postoje, stvori ih\n",
    "createFolder(test_dir)\n",
    "    \n",
    "fileovi = list(walk(train2_dir))[0][2]\n",
    "\n",
    "for key, values in artists.items():\n",
    "    a_tedir = os.path.join(test_dir, key)\n",
    "\n",
    "    createFolder(a_tedir)\n",
    "\n",
    "    for item in values:\n",
    "        copyImage(os.path.join(a_tedir, item), os.path.join(train2_dir, item), a_tedir)"
   ]
  },
  {
   "cell_type": "code",
   "execution_count": 31,
   "metadata": {},
   "outputs": [],
   "source": [
    "import shutil\n",
    "import pandas as pd\n",
    "from os import path, getcwd, makedirs, walk\n",
    "\n",
    "def createFolder(name):\n",
    "    if not path.exists(name):\n",
    "        makedirs(name)\n",
    "        \n",
    "def copyImage(check, source, dest):\n",
    "    if not path.exists(check):\n",
    "        copy(source, dest)\n",
    "        \n",
    "moj_direktorij = getcwd()\n",
    "\n",
    "test_dir = path.join(path.abspath(path.join(moj_direktorij, '..')), 'test')\n",
    "\n",
    "train2_dir = path.join(path.abspath(path.join(moj_direktorij, '..')), 'train_2')\n",
    "\n",
    "# ako validation, test i train poddirektoriji ne postoje, stvori ih\n",
    "createFolder(test_dir)\n",
    "    \n",
    "fileovi = list(walk(train2_dir))[0][2]\n",
    "\n",
    "def copyImagesToFiles(artist, artistImagesTrain, artistImagesVal, artistImagesTest):\n",
    "\n",
    "    a_tedir = path.join(test_dir, artist)\n",
    "\n",
    "    createFolder(a_tedir)\n",
    "\n",
    "    for item in artistImagesTest.new_filename:\n",
    "        copyImage(path.join(a_tedir, item), path.join(train2_dir, item), a_tedir)"
   ]
  },
  {
   "cell_type": "code",
   "execution_count": null,
   "metadata": {},
   "outputs": [],
   "source": []
  }
 ],
 "metadata": {
  "kernelspec": {
   "display_name": "Python 3",
   "language": "python",
   "name": "python3"
  },
  "language_info": {
   "codemirror_mode": {
    "name": "ipython",
    "version": 3
   },
   "file_extension": ".py",
   "mimetype": "text/x-python",
   "name": "python",
   "nbconvert_exporter": "python",
   "pygments_lexer": "ipython3",
   "version": "3.6.5"
  }
 },
 "nbformat": 4,
 "nbformat_minor": 2
}

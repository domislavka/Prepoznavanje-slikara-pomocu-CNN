{
 "cells": [
  {
   "cell_type": "code",
   "execution_count": 9,
   "metadata": {},
   "outputs": [
    {
     "name": "stderr",
     "output_type": "stream",
     "text": [
      "/home/ivana/anaconda3/lib/python3.6/site-packages/h5py/__init__.py:36: FutureWarning: Conversion of the second argument of issubdtype from `float` to `np.floating` is deprecated. In future, it will be treated as `np.float64 == np.dtype(float).type`.\n",
      "  from ._conv import register_converters as _register_converters\n",
      "Using TensorFlow backend.\n"
     ]
    }
   ],
   "source": [
    "from __future__ import print_function\n",
    "from keras.layers import Dense, Conv2D, BatchNormalization, Activation, MaxPooling2D\n",
    "from keras.layers import AveragePooling2D, Input, Flatten, Activation, Dropout, Dense\n",
    "from keras.optimizers import Adam\n",
    "from keras.callbacks import ModelCheckpoint, LearningRateScheduler\n",
    "from keras.callbacks import ReduceLROnPlateau\n",
    "from keras.preprocessing.image import ImageDataGenerator, array_to_img, img_to_array, load_img\n",
    "from keras.regularizers import l2\n",
    "from keras import backend as K\n",
    "from keras.models import Sequential\n",
    "import pandas as pd\n",
    "from os import path\n",
    "from shutil import copy\n",
    "import random\n",
    "import numpy as np\n",
    "import CopyFiles"
   ]
  },
  {
   "cell_type": "code",
   "execution_count": 1,
   "metadata": {},
   "outputs": [],
   "source": [
    "def sve_jpg(df):\n",
    "    for item in list(df.new_filename):\n",
    "        if not '.jpg' in item:\n",
    "            return False\n",
    "    return True"
   ]
  },
  {
   "cell_type": "code",
   "execution_count": 8,
   "metadata": {
    "scrolled": true
   },
   "outputs": [
    {
     "name": "stdout",
     "output_type": "stream",
     "text": [
      "(103250, 12)\n"
     ]
    },
    {
     "data": {
      "text/html": [
       "<div>\n",
       "<style scoped>\n",
       "    .dataframe tbody tr th:only-of-type {\n",
       "        vertical-align: middle;\n",
       "    }\n",
       "\n",
       "    .dataframe tbody tr th {\n",
       "        vertical-align: top;\n",
       "    }\n",
       "\n",
       "    .dataframe thead th {\n",
       "        text-align: right;\n",
       "    }\n",
       "</style>\n",
       "<table border=\"1\" class=\"dataframe\">\n",
       "  <thead>\n",
       "    <tr style=\"text-align: right;\">\n",
       "      <th></th>\n",
       "      <th>artist</th>\n",
       "      <th>date</th>\n",
       "      <th>genre</th>\n",
       "      <th>pixelsx</th>\n",
       "      <th>pixelsy</th>\n",
       "      <th>size_bytes</th>\n",
       "      <th>source</th>\n",
       "      <th>style</th>\n",
       "      <th>title</th>\n",
       "      <th>artist_group</th>\n",
       "      <th>in_train</th>\n",
       "      <th>new_filename</th>\n",
       "    </tr>\n",
       "  </thead>\n",
       "  <tbody>\n",
       "    <tr>\n",
       "      <th>0</th>\n",
       "      <td>Barnett Newman</td>\n",
       "      <td>1955.0</td>\n",
       "      <td>abstract</td>\n",
       "      <td>15530.0</td>\n",
       "      <td>6911.0</td>\n",
       "      <td>9201912.0</td>\n",
       "      <td>wikiart</td>\n",
       "      <td>Color Field Painting</td>\n",
       "      <td>Uriel</td>\n",
       "      <td>train_only</td>\n",
       "      <td>True</td>\n",
       "      <td>102257.jpg</td>\n",
       "    </tr>\n",
       "    <tr>\n",
       "      <th>1</th>\n",
       "      <td>Barnett Newman</td>\n",
       "      <td>1950.0</td>\n",
       "      <td>abstract</td>\n",
       "      <td>14559.0</td>\n",
       "      <td>6866.0</td>\n",
       "      <td>8867532.0</td>\n",
       "      <td>wikiart</td>\n",
       "      <td>Color Field Painting</td>\n",
       "      <td>Vir Heroicus Sublimis</td>\n",
       "      <td>train_only</td>\n",
       "      <td>True</td>\n",
       "      <td>75232.jpg</td>\n",
       "    </tr>\n",
       "    <tr>\n",
       "      <th>2</th>\n",
       "      <td>kiri nichol</td>\n",
       "      <td>2013.0</td>\n",
       "      <td>NaN</td>\n",
       "      <td>9003.0</td>\n",
       "      <td>9004.0</td>\n",
       "      <td>1756681.0</td>\n",
       "      <td>NaN</td>\n",
       "      <td>Neoplasticism</td>\n",
       "      <td>NaN</td>\n",
       "      <td>test_only</td>\n",
       "      <td>False</td>\n",
       "      <td>32145.jpg</td>\n",
       "    </tr>\n",
       "    <tr>\n",
       "      <th>3</th>\n",
       "      <td>kiri nichol</td>\n",
       "      <td>2013.0</td>\n",
       "      <td>NaN</td>\n",
       "      <td>9003.0</td>\n",
       "      <td>9004.0</td>\n",
       "      <td>1942046.0</td>\n",
       "      <td>NaN</td>\n",
       "      <td>Neoplasticism</td>\n",
       "      <td>NaN</td>\n",
       "      <td>test_only</td>\n",
       "      <td>False</td>\n",
       "      <td>20304.jpg</td>\n",
       "    </tr>\n",
       "    <tr>\n",
       "      <th>4</th>\n",
       "      <td>kiri nichol</td>\n",
       "      <td>2013.0</td>\n",
       "      <td>NaN</td>\n",
       "      <td>9003.0</td>\n",
       "      <td>9004.0</td>\n",
       "      <td>1526212.0</td>\n",
       "      <td>NaN</td>\n",
       "      <td>Neoplasticism</td>\n",
       "      <td>NaN</td>\n",
       "      <td>test_only</td>\n",
       "      <td>False</td>\n",
       "      <td>836.jpg</td>\n",
       "    </tr>\n",
       "  </tbody>\n",
       "</table>\n",
       "</div>"
      ],
      "text/plain": [
       "           artist    date     genre  pixelsx  pixelsy  size_bytes   source  \\\n",
       "0  Barnett Newman  1955.0  abstract  15530.0   6911.0   9201912.0  wikiart   \n",
       "1  Barnett Newman  1950.0  abstract  14559.0   6866.0   8867532.0  wikiart   \n",
       "2     kiri nichol  2013.0       NaN   9003.0   9004.0   1756681.0      NaN   \n",
       "3     kiri nichol  2013.0       NaN   9003.0   9004.0   1942046.0      NaN   \n",
       "4     kiri nichol  2013.0       NaN   9003.0   9004.0   1526212.0      NaN   \n",
       "\n",
       "                  style                  title artist_group  in_train  \\\n",
       "0  Color Field Painting                  Uriel   train_only      True   \n",
       "1  Color Field Painting  Vir Heroicus Sublimis   train_only      True   \n",
       "2         Neoplasticism                    NaN    test_only     False   \n",
       "3         Neoplasticism                    NaN    test_only     False   \n",
       "4         Neoplasticism                    NaN    test_only     False   \n",
       "\n",
       "  new_filename  \n",
       "0   102257.jpg  \n",
       "1    75232.jpg  \n",
       "2    32145.jpg  \n",
       "3    20304.jpg  \n",
       "4      836.jpg  "
      ]
     },
     "execution_count": 8,
     "metadata": {},
     "output_type": "execute_result"
    }
   ],
   "source": [
    "import os\n",
    "from shutil import copy\n",
    "import pandas as pd\n",
    "df = pd.read_csv('/home/ivana/repos/Vje-ba/all_data_info.csv')\n",
    "seed = 123\n",
    "\n",
    "print(df.shape)\n",
    "df.head()"
   ]
  },
  {
   "cell_type": "code",
   "execution_count": 6,
   "metadata": {
    "scrolled": false
   },
   "outputs": [
    {
     "name": "stdout",
     "output_type": "stream",
     "text": [
      "Sve su jpg: True\n"
     ]
    }
   ],
   "source": [
    "print('Sve su jpg: ' + str(sve_jpg(df)))"
   ]
  },
  {
   "cell_type": "code",
   "execution_count": 10,
   "metadata": {},
   "outputs": [
    {
     "name": "stdout",
     "output_type": "stream",
     "text": [
      "57\n"
     ]
    }
   ],
   "source": [
    "x = list(df['artist'].value_counts())\n",
    "# broj umjetnika koji imaju vise ili jednako od 300 slika\n",
    "print(len([a for a in x if a >= 300]))\n",
    "# len(set(x)) #---> ukupan broj umjetnika"
   ]
  },
  {
   "cell_type": "code",
   "execution_count": 163,
   "metadata": {
    "scrolled": false
   },
   "outputs": [
    {
     "name": "stdout",
     "output_type": "stream",
     "text": [
      "['Pierre-Auguste Renoir', 'Marc Chagall', 'Zdislav Beksinski', 'John Singer Sargent', 'Giovanni Battista Piranesi', 'Ivan Aivazovsky', 'Ivan Shishkin', 'Rembrandt', 'Pablo Picasso', 'Gustave Dore', 'Albrecht Durer', 'Ilya Repin']\n",
      "12\n"
     ]
    }
   ],
   "source": [
    "# train, validation, test --- 80, 10, 10\n",
    "num_train = 240\n",
    "num_val = 30\n",
    "num_test = num_val\n",
    "num_samples = num_train + num_val + num_test\n",
    "b_size = 60\n",
    "\n",
    "#lista umjetnika koje ćemo promatrati\n",
    "temp = df['artist'].value_counts()\n",
    "threshold = num_samples\n",
    "artists = temp[temp >= threshold].index.tolist()\n",
    "# print(artists)\n",
    "\n",
    "num_artists = len(artists)\n",
    "print('Prepoznajemo ' + str(num_artist) + ' umjetnika')\n",
    "\n",
    "train_dfs = []\n",
    "val_dfs = []\n",
    "test_dfs = []\n",
    "\n",
    "for a in artists:\n",
    "    # PROVJERI KASNIJE ŠTA JE S NA=TRUE\n",
    "    tmp = df[df['artist'].str.startswith(a)].sample(n=num_samples, random_state=seed)\n",
    "    # print(tmp.shape)\n",
    "    t_df = tmp.sample(n=num_train, random_state=seed)\n",
    "    rest_df = tmp.loc[~tmp.index.isin(t_df.index)] # uzmi komplement od t_df\n",
    "    # print(rest_df.shape)\n",
    "    v_df = rest_df.sample(n=num_val, random_state=seed)\n",
    "    te_df = rest_df.loc[~rest_df.index.isin(v_df.index)]\n",
    "    \n",
    "    train_dfs.append(t_df)\n",
    "    val_dfs.append(v_df)\n",
    "    test_dfs.append(te_df)\n",
    "    \n",
    "    # ovo se pokrene samo jednom!!\n",
    "    copyImagesToFiles(a, t_df, v_df, te_df)\n",
    "\n",
    "train_df = pd.concat(train_dfs)\n",
    "val_df = pd.concat(val_dfs)\n",
    "test_df = pd.concat(test_dfs)\n",
    "\n",
    "print('train tablica\\t\\t', train_df.shape)\n",
    "print('validation tablica\\t', val_df.shape)\n",
    "print('test tablica\\t\\t', test_df.shape)"
   ]
  },
  {
   "cell_type": "code",
   "execution_count": 135,
   "metadata": {},
   "outputs": [],
   "source": [
    "def center_crop(img, center_crop_size):\n",
    "    assert img.shape[2] == 3\n",
    "    centerw, centerh = img.shape[0] // 2, img.shape[1] // 2\n",
    "    halfw, halfh = center_crop_size[0] // 2, center_crop_size[1] // 2\n",
    "    return img[centerw-halfw:centerw+halfw, centerh-halfh:centerh+halfh, :]\n",
    "\n",
    "# https://jkjung-avt.github.io/keras-image-cropping/\n",
    "def random_crop(img, random_crop_size):\n",
    "    # Note: image_data_format is 'channel_last'\n",
    "    assert img.shape[2] == 3\n",
    "    height, width = img.shape[0], img.shape[1]\n",
    "    dy, dx = random_crop_size\n",
    "    x = np.random.randint(0, width - dx + 1)\n",
    "    y = np.random.randint(0, height - dy + 1)\n",
    "    return img[y:(y+dy), x:(x+dx), :]\n",
    "\n",
    "\n",
    "def crop_generator(batches, crop_length, random_crop=True):\n",
    "    '''\n",
    "    Take as input a Keras ImageGen (Iterator) and generate random\n",
    "    crops from the image batches generated by the original iterator\n",
    "    '''\n",
    "    while True:\n",
    "        batch_x, batch_y = next(batches)\n",
    "        batch_crops = np.zeros((batch_x.shape[0], crop_length, crop_length, 3))\n",
    "        for i in range(batch_x.shape[0]):\n",
    "            if random_crop == True:\n",
    "                batch_crops[i] = random_crop(batch_x[i], (crop_length, crop_length))\n",
    "            else:\n",
    "                batch_crops[i] = center_crop(batch_x[i], (crop_length, crop_length))\n",
    "        yield (batch_crops, batch_y)\n"
   ]
  },
  {
   "cell_type": "code",
   "execution_count": 160,
   "metadata": {},
   "outputs": [
    {
     "name": "stdout",
     "output_type": "stream",
     "text": [
      "x2 (1, 800, 591, 3)\n",
      "(1, 224, 224, 3)\n",
      "(1, 800, 591, 3)\n",
      "(224, 224, 3)\n"
     ]
    }
   ],
   "source": [
    "# velicina slika koje dajemo ulaznom sloju mreze\n",
    "input_shape = (224, 224, 3)\n",
    "# velicina batch-a\n",
    "b_size = 87\n",
    "\n",
    "train_datagen = ImageDataGenerator(\n",
    "                horizontal_flip=True)\n",
    "\n",
    "val_datagen = ImageDataGenerator(\n",
    "                horizontal_flip=True)\n",
    "\n",
    "train_generator = train_datagen.flow_from_directory(\n",
    "                    '../train',\n",
    "                    batch_size=b_size,\n",
    "                    class_mode='sparse')\n",
    "# na slikama iz train skupa radimo crop na slučajnom mjestu\n",
    "train_crops = crop_generator(train_generator, 224)\n",
    "\n",
    "validation_generator = val_datagen.flow_from_directory(\n",
    "                    '../validation',\n",
    "                    batch_size=b_size,\n",
    "                    class_mode='sparse')\n",
    "# na slikama iz validation skupa radimo centralni crop\n",
    "val_crops = crop_generator(validation_generator, 224, False)"
   ]
  },
  {
   "cell_type": "markdown",
   "metadata": {},
   "source": [
    "Model mreže"
   ]
  },
  {
   "cell_type": "code",
   "execution_count": null,
   "metadata": {},
   "outputs": [],
   "source": [
    "# model mreže inspiriran glavnim člankom\n",
    "\n",
    "model = Sequential()\n",
    "#nn.Conv2d(3, 32, kernel_size=3 +, stride=2 +, padding=1), # -> 112\n",
    "model.add(Conv2D(32, kernel_size=3, strides=2, padding=\"same\",input_shape=input_shape))\n",
    "model.add(Activation('relu'))\n",
    "model.add(BatchNormalization())\n",
    "model.add(MaxPooling2D(pool_size=2))\n",
    "model.add(Conv2D(32, kernel_size=3, strides=2, padding=\"same\", input_shape=input_shape))\n",
    "model.add(Activation('relu'))\n",
    "model.add(BatchNormalization())\n",
    "model.add(MaxPooling2D(pool_size=2))\n",
    "model.add(Flatten())\n",
    "model.add(Dense(4*num_artists, input_shape=(6272,))) #nn.Linear(6272, 4*num_artists),\n",
    "model.add(Activation('relu'))\n",
    "model.add(Dense(num_artists, input_shape=(4*num_artists,))) #nn.Linear(4*num_artists, num_artists)\n",
    "\n",
    "# koristimo adamov optimizator i metrika je točnost\n",
    "model.compile(loss='sparse_categorical_crossentropy',\n",
    "              optimizer=Adam(lr=1e-4),\n",
    "              metrics=['accuracy'])\n",
    "\n",
    "# crta tablicu slojeva mreže\n",
    "model.summary()"
   ]
  },
  {
   "cell_type": "code",
   "execution_count": null,
   "metadata": {},
   "outputs": [],
   "source": [
    "# treniramo mrežu....\n",
    "\n",
    "STEP_SIZE_TRAIN=train_generator.n//train_generator.batch_size\n",
    "STEP_SIZE_VALID=validation_generator.n//validation_generator.batch_size\n",
    "\n",
    "print('STEP_SIZE_TRAIN', STEP_SIZE_TRAIN)\n",
    "print('STEP_SIZE_VALID', STEP_SIZE_VALID)\n",
    "\n",
    "model.fit_generator(\n",
    "    train_crops,\n",
    "    steps_per_epoch=STEP_SIZE_TRAIN,\n",
    "    epochs=3,\n",
    "    validation_data=val_crops,\n",
    "    validation_steps=STEP_SIZE_VALID)\n",
    "\n",
    "model.save_weights('prvi_pokusaj300SVE-SLIKE.h5')"
   ]
  },
  {
   "cell_type": "code",
   "execution_count": null,
   "metadata": {
    "scrolled": true
   },
   "outputs": [],
   "source": [
    "# Score trained model.\n",
    "scores = model.evaluate(X_test, y_test, verbose=1)\n",
    "print('Test loss:', scores[0])\n",
    "print('Test accuracy:', scores[1])"
   ]
  }
 ],
 "metadata": {
  "kernelspec": {
   "display_name": "Python 3",
   "language": "python",
   "name": "python3"
  },
  "language_info": {
   "codemirror_mode": {
    "name": "ipython",
    "version": 3
   },
   "file_extension": ".py",
   "mimetype": "text/x-python",
   "name": "python",
   "nbconvert_exporter": "python",
   "pygments_lexer": "ipython3",
   "version": "3.6.5"
  }
 },
 "nbformat": 4,
 "nbformat_minor": 2
}
